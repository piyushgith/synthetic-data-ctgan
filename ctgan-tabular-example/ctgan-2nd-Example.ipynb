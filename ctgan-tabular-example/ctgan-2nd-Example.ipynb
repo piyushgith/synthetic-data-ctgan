{
 "cells": [
  {
   "cell_type": "markdown",
   "metadata": {},
   "source": [
    "## We will train and Store the Model which can be used to generate the data"
   ]
  },
  {
   "cell_type": "code",
   "execution_count": 3,
   "metadata": {},
   "outputs": [],
   "source": [
    "import pandas as pd\n",
    "from ctgan import CTGAN"
   ]
  },
  {
   "cell_type": "code",
   "execution_count": null,
   "metadata": {},
   "outputs": [],
   "source": [
    "#!pip install fastparquet"
   ]
  },
  {
   "cell_type": "code",
   "execution_count": 31,
   "metadata": {},
   "outputs": [
    {
     "data": {
      "text/html": [
       "<div>\n",
       "<style scoped>\n",
       "    .dataframe tbody tr th:only-of-type {\n",
       "        vertical-align: middle;\n",
       "    }\n",
       "\n",
       "    .dataframe tbody tr th {\n",
       "        vertical-align: top;\n",
       "    }\n",
       "\n",
       "    .dataframe thead th {\n",
       "        text-align: right;\n",
       "    }\n",
       "</style>\n",
       "<table border=\"1\" class=\"dataframe\">\n",
       "  <thead>\n",
       "    <tr style=\"text-align: right;\">\n",
       "      <th></th>\n",
       "      <th>age</th>\n",
       "      <th>sex</th>\n",
       "      <th>bmi</th>\n",
       "      <th>children</th>\n",
       "      <th>smoker</th>\n",
       "      <th>region</th>\n",
       "      <th>charges</th>\n",
       "    </tr>\n",
       "  </thead>\n",
       "  <tbody>\n",
       "    <tr>\n",
       "      <th>0</th>\n",
       "      <td>19</td>\n",
       "      <td>female</td>\n",
       "      <td>27.900</td>\n",
       "      <td>0</td>\n",
       "      <td>yes</td>\n",
       "      <td>southwest</td>\n",
       "      <td>16884.92400</td>\n",
       "    </tr>\n",
       "    <tr>\n",
       "      <th>1</th>\n",
       "      <td>18</td>\n",
       "      <td>male</td>\n",
       "      <td>33.770</td>\n",
       "      <td>1</td>\n",
       "      <td>no</td>\n",
       "      <td>southeast</td>\n",
       "      <td>1725.55230</td>\n",
       "    </tr>\n",
       "    <tr>\n",
       "      <th>2</th>\n",
       "      <td>28</td>\n",
       "      <td>male</td>\n",
       "      <td>33.000</td>\n",
       "      <td>3</td>\n",
       "      <td>no</td>\n",
       "      <td>southeast</td>\n",
       "      <td>4449.46200</td>\n",
       "    </tr>\n",
       "    <tr>\n",
       "      <th>3</th>\n",
       "      <td>33</td>\n",
       "      <td>male</td>\n",
       "      <td>22.705</td>\n",
       "      <td>0</td>\n",
       "      <td>no</td>\n",
       "      <td>northwest</td>\n",
       "      <td>21984.47061</td>\n",
       "    </tr>\n",
       "    <tr>\n",
       "      <th>4</th>\n",
       "      <td>32</td>\n",
       "      <td>male</td>\n",
       "      <td>28.880</td>\n",
       "      <td>0</td>\n",
       "      <td>no</td>\n",
       "      <td>northwest</td>\n",
       "      <td>3866.85520</td>\n",
       "    </tr>\n",
       "  </tbody>\n",
       "</table>\n",
       "</div>"
      ],
      "text/plain": [
       "   age     sex     bmi  children smoker     region      charges\n",
       "0   19  female  27.900         0    yes  southwest  16884.92400\n",
       "1   18    male  33.770         1     no  southeast   1725.55230\n",
       "2   28    male  33.000         3     no  southeast   4449.46200\n",
       "3   33    male  22.705         0     no  northwest  21984.47061\n",
       "4   32    male  28.880         0     no  northwest   3866.85520"
      ]
     },
     "execution_count": 31,
     "metadata": {},
     "output_type": "execute_result"
    }
   ],
   "source": [
    "# Incase you want to change type of a column add it as schema\n",
    "custom_schema = {'age' : 'int64' ,'sex' : 'object' ,'bmi' : 'float64' ,'children' : 'int64' ,'smoker' : 'object' ,'region' : 'object' ,'charges' : 'float64'}\n",
    "\n",
    "df = pd.read_csv('insurance.csv',dtype = custom_schema)\n",
    "df.head(5)"
   ]
  },
  {
   "cell_type": "code",
   "execution_count": 32,
   "metadata": {},
   "outputs": [
    {
     "name": "stdout",
     "output_type": "stream",
     "text": [
      "'age' : 'int64' ,\n",
      "'sex' : 'object' ,\n",
      "'bmi' : 'float64' ,\n",
      "'children' : 'int64' ,\n",
      "'smoker' : 'object' ,\n",
      "'region' : 'object' ,\n",
      "'charges' : 'float64' ,\n"
     ]
    }
   ],
   "source": [
    "# Incase you want to see pandas has evaluate wrong datatype\n",
    "for i in list(df.columns.values):\n",
    "    print(\"'{}' : '{}' ,\".format(i, (df[i].dtype)))"
   ]
  },
  {
   "cell_type": "code",
   "execution_count": 33,
   "metadata": {},
   "outputs": [
    {
     "name": "stdout",
     "output_type": "stream",
     "text": [
      "   age     sex    bmi  children smoker     region     charges\n",
      "0   19  female  27.90         0    yes  southwest  16884.9240\n",
      "1   18    male  33.77         1     no  southeast   1725.5523\n"
     ]
    }
   ],
   "source": [
    "#Strip any space leading or trailing\n",
    "df = df.map(lambda x: x.strip() if isinstance(x, str) else x)\n",
    "\n",
    "print(df.head(2))"
   ]
  },
  {
   "cell_type": "code",
   "execution_count": 34,
   "metadata": {},
   "outputs": [],
   "source": [
    "def getSyntheticData(df,sample_size,modelSave):\n",
    "    ctgan = CTGAN(verbose=True)\n",
    "    ctgan.fit(df, list(df.columns.values),epochs= 200)\n",
    "\n",
    "    ## Synthetic Data Generation\n",
    "    ## It will take time. Don't create more than i Million at a time.\n",
    "\n",
    "    samples = ctgan.sample(sample_size)\n",
    "    \n",
    "    ## Save the sample as csv or parqute\n",
    "    samples.to_csv('testdata.csv',encoding='utf-8',index=False,header=True)\n",
    "    samples.to_parquet('testdata1.parquet',engine='fastparquet')\n",
    "    \n",
    "    #If wanted to save model for later use\n",
    "    if(modelSave):\n",
    "        ctgan.save('ctagn_insurance_model.pkl')\n",
    "    \n",
    "    samples.head(10)"
   ]
  },
  {
   "cell_type": "code",
   "execution_count": 35,
   "metadata": {},
   "outputs": [
    {
     "name": "stderr",
     "output_type": "stream",
     "text": [
      "Gen. (2.05) | Discrim. (-0.03): 100%|██████████| 200/200 [02:30<00:00,  1.33it/s]\n"
     ]
    }
   ],
   "source": [
    "getSyntheticData(df,10,True)"
   ]
  },
  {
   "cell_type": "markdown",
   "metadata": {},
   "source": [
    "## Now We can get samples directly from our trained model"
   ]
  },
  {
   "cell_type": "code",
   "execution_count": 37,
   "metadata": {},
   "outputs": [
    {
     "name": "stderr",
     "output_type": "stream",
     "text": [
      "d:\\github\\synthetic-data-ctgan\\.venv\\Lib\\site-packages\\ctgan\\synthesizers\\base.py:125: FutureWarning: You are using `torch.load` with `weights_only=False` (the current default value), which uses the default pickle module implicitly. It is possible to construct malicious pickle data which will execute arbitrary code during unpickling (See https://github.com/pytorch/pytorch/blob/main/SECURITY.md#untrusted-models for more details). In a future release, the default value for `weights_only` will be flipped to `True`. This limits the functions that could be executed during unpickling. Arbitrary objects will no longer be allowed to be loaded via this mode unless they are explicitly allowlisted by the user via `torch.serialization.add_safe_globals`. We recommend you start setting `weights_only=True` for any use case where you don't have full control of the loaded file. Please open an issue on GitHub for any issues related to this experimental feature.\n",
      "  model = torch.load(path)\n"
     ]
    },
    {
     "data": {
      "text/html": [
       "<div>\n",
       "<style scoped>\n",
       "    .dataframe tbody tr th:only-of-type {\n",
       "        vertical-align: middle;\n",
       "    }\n",
       "\n",
       "    .dataframe tbody tr th {\n",
       "        vertical-align: top;\n",
       "    }\n",
       "\n",
       "    .dataframe thead th {\n",
       "        text-align: right;\n",
       "    }\n",
       "</style>\n",
       "<table border=\"1\" class=\"dataframe\">\n",
       "  <thead>\n",
       "    <tr style=\"text-align: right;\">\n",
       "      <th></th>\n",
       "      <th>age</th>\n",
       "      <th>sex</th>\n",
       "      <th>bmi</th>\n",
       "      <th>children</th>\n",
       "      <th>smoker</th>\n",
       "      <th>region</th>\n",
       "      <th>charges</th>\n",
       "    </tr>\n",
       "  </thead>\n",
       "  <tbody>\n",
       "    <tr>\n",
       "      <th>0</th>\n",
       "      <td>48</td>\n",
       "      <td>male</td>\n",
       "      <td>23.600</td>\n",
       "      <td>0</td>\n",
       "      <td>yes</td>\n",
       "      <td>southeast</td>\n",
       "      <td>9447.38240</td>\n",
       "    </tr>\n",
       "    <tr>\n",
       "      <th>1</th>\n",
       "      <td>61</td>\n",
       "      <td>female</td>\n",
       "      <td>31.065</td>\n",
       "      <td>4</td>\n",
       "      <td>no</td>\n",
       "      <td>southeast</td>\n",
       "      <td>4877.98105</td>\n",
       "    </tr>\n",
       "    <tr>\n",
       "      <th>2</th>\n",
       "      <td>37</td>\n",
       "      <td>male</td>\n",
       "      <td>39.490</td>\n",
       "      <td>3</td>\n",
       "      <td>yes</td>\n",
       "      <td>southeast</td>\n",
       "      <td>14474.67500</td>\n",
       "    </tr>\n",
       "    <tr>\n",
       "      <th>3</th>\n",
       "      <td>20</td>\n",
       "      <td>male</td>\n",
       "      <td>32.200</td>\n",
       "      <td>3</td>\n",
       "      <td>no</td>\n",
       "      <td>northwest</td>\n",
       "      <td>40941.28540</td>\n",
       "    </tr>\n",
       "    <tr>\n",
       "      <th>4</th>\n",
       "      <td>52</td>\n",
       "      <td>male</td>\n",
       "      <td>29.700</td>\n",
       "      <td>3</td>\n",
       "      <td>no</td>\n",
       "      <td>northeast</td>\n",
       "      <td>7441.50100</td>\n",
       "    </tr>\n",
       "    <tr>\n",
       "      <th>...</th>\n",
       "      <td>...</td>\n",
       "      <td>...</td>\n",
       "      <td>...</td>\n",
       "      <td>...</td>\n",
       "      <td>...</td>\n",
       "      <td>...</td>\n",
       "      <td>...</td>\n",
       "    </tr>\n",
       "    <tr>\n",
       "      <th>95</th>\n",
       "      <td>59</td>\n",
       "      <td>male</td>\n",
       "      <td>28.310</td>\n",
       "      <td>0</td>\n",
       "      <td>no</td>\n",
       "      <td>southeast</td>\n",
       "      <td>14478.33015</td>\n",
       "    </tr>\n",
       "    <tr>\n",
       "      <th>96</th>\n",
       "      <td>26</td>\n",
       "      <td>female</td>\n",
       "      <td>35.750</td>\n",
       "      <td>2</td>\n",
       "      <td>no</td>\n",
       "      <td>southeast</td>\n",
       "      <td>2103.08000</td>\n",
       "    </tr>\n",
       "    <tr>\n",
       "      <th>97</th>\n",
       "      <td>45</td>\n",
       "      <td>male</td>\n",
       "      <td>31.445</td>\n",
       "      <td>0</td>\n",
       "      <td>no</td>\n",
       "      <td>northeast</td>\n",
       "      <td>14711.74380</td>\n",
       "    </tr>\n",
       "    <tr>\n",
       "      <th>98</th>\n",
       "      <td>24</td>\n",
       "      <td>male</td>\n",
       "      <td>28.700</td>\n",
       "      <td>3</td>\n",
       "      <td>yes</td>\n",
       "      <td>northeast</td>\n",
       "      <td>13430.26500</td>\n",
       "    </tr>\n",
       "    <tr>\n",
       "      <th>99</th>\n",
       "      <td>43</td>\n",
       "      <td>female</td>\n",
       "      <td>32.110</td>\n",
       "      <td>0</td>\n",
       "      <td>no</td>\n",
       "      <td>northeast</td>\n",
       "      <td>27117.99378</td>\n",
       "    </tr>\n",
       "  </tbody>\n",
       "</table>\n",
       "<p>100 rows × 7 columns</p>\n",
       "</div>"
      ],
      "text/plain": [
       "    age     sex     bmi  children smoker     region      charges\n",
       "0    48    male  23.600         0    yes  southeast   9447.38240\n",
       "1    61  female  31.065         4     no  southeast   4877.98105\n",
       "2    37    male  39.490         3    yes  southeast  14474.67500\n",
       "3    20    male  32.200         3     no  northwest  40941.28540\n",
       "4    52    male  29.700         3     no  northeast   7441.50100\n",
       "..  ...     ...     ...       ...    ...        ...          ...\n",
       "95   59    male  28.310         0     no  southeast  14478.33015\n",
       "96   26  female  35.750         2     no  southeast   2103.08000\n",
       "97   45    male  31.445         0     no  northeast  14711.74380\n",
       "98   24    male  28.700         3    yes  northeast  13430.26500\n",
       "99   43  female  32.110         0     no  northeast  27117.99378\n",
       "\n",
       "[100 rows x 7 columns]"
      ]
     },
     "execution_count": 37,
     "metadata": {},
     "output_type": "execute_result"
    }
   ],
   "source": [
    "from ctgan import CTGAN\n",
    "\n",
    "model_path = 'ctagn_insurance_model.pkl'\n",
    "\n",
    "ctgan = CTGAN.load(model_path)\n",
    "# Generate Synthetic samples\n",
    "\n",
    "sythetic_data = ctgan.sample(100)\n",
    "sythetic_data.to_parquet('testdata2.parquet',engine='fastparquet')\n",
    "\n",
    "sythetic_data.head(100)"
   ]
  },
  {
   "cell_type": "markdown",
   "metadata": {},
   "source": [
    "## We can define these params like this as well. Need to test it later\n",
    "\n",
    "field_types = {\"MARITAL\":{\"type\":\"categorical\"},\"RACE\":{\"type\":\"categorical\"},\"ETHNICITY\":{\"type\":\"categorical\"},\"GENDER\":{\"type\":\"categorical\"},\"PREFIX\":{\"type\":\"categorical\"},\"SUFFIX\":{\"type\":\"categorical\"},\"MAIDEN\":{\"type\":\"categorical\"},\"BIRTHPLACE\":{\"type\":\"categorical\"},\"CITY\":{\"type\":\"categorical\"},\"STATE\":{\"type\":\"categorical\"},\"COUNTY\":{\"type\":\"categorical\"},\"ZIP\":{\"type\":\"categorical\"},\"LAT\":{\"type\":\"categorical\"},\"LON\":{\"type\":\"categorical\"},\"HEALTHCARE_EXPENSES\":{\"type\":\"numerical\",\"subtype\":\"float\"},\"HEALTHCARE_COVERAGE\":{\"type\":\"numerical\",\"subtype\":\"float\"},\"BIRTHDATE\":{\"type\":\"datetime\",\"format\":\"%m/%d-%Y\"},\"DEATHDATE\":{\"type\":\"datetime\",\"format\":\"%m/%d-%Y\"}}\n",
    "\n",
    "field_transformers = {\"MARITAL\":\"categorical\",\"RACE\":\"categorical\",\"ETHNICITY\":\"categorical\",\"GENDER\":\"categorical\",\"PREFIX\":\"categorical\",\"SUFFIX\":\"categorical\",\"MAIDEN\":\"categorical\",\"BIRTHPLACE\":\"categorical\",\"CITY\":\"categorical\",\"STATE\":\"categorical\",\"COUNTY\":\"categorical\",\"ZIP\":\"categorical\",\"HEALTHCARE_EXPENSES\":\"float\",\"HEALTHCARE_COVERAGE\":\"float\",\"BIRTHDATE\":\"datetime\",\"DEATHDATE\":\"datetime\"}\n",
    "\n",
    "{\"SSN\":\"ssn\",\"ADDRESS\":\"address\",\"LAT\":\"latitude\",\"LON\":\"longitude\",\"FIRST\":\"first_name\",\"LAST\":\"last_name\",\"Id\":\"uuid4\"}\n",
    "\n",
    "\n",
    "model = CTGAN(field_types=field_types, field_transformers=field_transformers, anonymize_fields=anonymize, epochs=1) \n"
   ]
  }
 ],
 "metadata": {
  "kernelspec": {
   "display_name": ".venv",
   "language": "python",
   "name": "python3"
  },
  "language_info": {
   "codemirror_mode": {
    "name": "ipython",
    "version": 3
   },
   "file_extension": ".py",
   "mimetype": "text/x-python",
   "name": "python",
   "nbconvert_exporter": "python",
   "pygments_lexer": "ipython3",
   "version": "3.12.6"
  }
 },
 "nbformat": 4,
 "nbformat_minor": 2
}
